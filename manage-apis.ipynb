{
 "cells": [
  {
   "cell_type": "code",
   "execution_count": null,
   "id": "89b7790d-f711-4111-b0d4-ce7e83768e35",
   "metadata": {},
   "outputs": [],
   "source": [
    "# Installation for Kubeflow Pipelines\n",
    "# !pip install kfp==2.0.0b13"
   ]
  },
  {
   "cell_type": "code",
   "execution_count": null,
   "id": "ae783d20",
   "metadata": {},
   "outputs": [],
   "source": [
    "import kfp\n",
    "print(kfp.__version__)"
   ]
  },
  {
   "cell_type": "code",
   "execution_count": null,
   "id": "fb65e577-0288-4156-a60b-22fa8f8e8c88",
   "metadata": {},
   "outputs": [],
   "source": [
    "from kfp import dsl,compiler"
   ]
  },
  {
   "cell_type": "markdown",
   "id": "2033322c-937e-4dd0-abb8-f81c9826a74d",
   "metadata": {},
   "source": [
    "# CREATE EXPERIMENT"
   ]
  },
  {
   "cell_type": "code",
   "execution_count": null,
   "id": "732e8b03-82cc-4eee-ad11-38d8e5020b81",
   "metadata": {},
   "outputs": [],
   "source": [
    "import kfp\n",
    "from kfp import Client"
   ]
  },
  {
   "cell_type": "code",
   "execution_count": null,
   "id": "4bd5938b-f614-4551-bfb5-8cfcd69ec822",
   "metadata": {},
   "outputs": [],
   "source": [
    "kfp_endpoint=None"
   ]
  },
  {
   "cell_type": "code",
   "execution_count": null,
   "id": "f0c971a7-3cf4-416d-9124-a03b82c45b13",
   "metadata": {},
   "outputs": [],
   "source": [
    "client = kfp.Client(host=kfp_endpoint)"
   ]
  },
  {
   "cell_type": "code",
   "execution_count": null,
   "id": "26be1302-07fe-414e-821e-a768e6c61d6b",
   "metadata": {},
   "outputs": [],
   "source": [
    "client.list_experiments()"
   ]
  },
  {
   "cell_type": "code",
   "execution_count": null,
   "id": "88a59835-ebea-47ab-8e70-8603e5ea1006",
   "metadata": {},
   "outputs": [],
   "source": [
    "experiment_id='<experiment_id>'\n",
    "client.delete_experiment(experiment_id)"
   ]
  },
  {
   "cell_type": "markdown",
   "id": "aadfd995-9105-4b8a-a32c-80b304d49532",
   "metadata": {},
   "source": [
    "# DELETE RUNS"
   ]
  },
  {
   "cell_type": "code",
   "execution_count": null,
   "id": "ea46355b-b45c-4997-9454-916541ca9231",
   "metadata": {},
   "outputs": [],
   "source": [
    "runs = client.list_runs()\n",
    "if runs.runs:\n",
    "    previous_run_id = runs.runs[0].id  # Assuming the latest run is the first in the list\n",
    "    print(f\"Deleting previous run with ID: {previous_run_id}\")\n",
    "    client.delete_run(run_id=previous_run_id)"
   ]
  },
  {
   "cell_type": "code",
   "execution_count": null,
   "id": "c279adfd-c4ab-40f5-91de-9440faadb312",
   "metadata": {},
   "outputs": [],
   "source": [
    "list_experiments = client.list_experiments()"
   ]
  },
  {
   "cell_type": "code",
   "execution_count": null,
   "id": "c43abedc-c207-4ac6-bb14-05d3cb5b0316",
   "metadata": {},
   "outputs": [],
   "source": [
    "print(list_experiments)"
   ]
  }
 ],
 "metadata": {
  "kernelspec": {
   "display_name": "Python 3 (ipykernel)",
   "language": "python",
   "name": "python3"
  },
  "language_info": {
   "codemirror_mode": {
    "name": "ipython",
    "version": 3
   },
   "file_extension": ".py",
   "mimetype": "text/x-python",
   "name": "python",
   "nbconvert_exporter": "python",
   "pygments_lexer": "ipython3",
   "version": "3.13.0"
  }
 },
 "nbformat": 4,
 "nbformat_minor": 5
}
